{
 "cells": [
  {
   "cell_type": "markdown",
   "id": "e6253133",
   "metadata": {},
   "source": [
    "# Download e carregamento do dataset Amazon Fine Food Reviews\n"
   ]
  },
  {
   "cell_type": "code",
   "execution_count": 1,
   "id": "4fa28a0e",
   "metadata": {},
   "outputs": [
    {
     "name": "stderr",
     "output_type": "stream",
     "text": [
      "c:\\Users\\PEDRO PERTUSI\\Desktop\\nlp-final-project\\env\\lib\\site-packages\\tqdm\\auto.py:21: TqdmWarning: IProgress not found. Please update jupyter and ipywidgets. See https://ipywidgets.readthedocs.io/en/stable/user_install.html\n",
      "  from .autonotebook import tqdm as notebook_tqdm\n"
     ]
    }
   ],
   "source": [
    "import os\n",
    "import zipfile\n",
    "import pandas as pd\n",
    "import kagglehub\n",
    "import shutil\n",
    "\n",
    "def download_kaggle_dataset(dataset):\n",
    "    path = kagglehub.dataset_download(dataset)\n",
    "    \n",
    "    if not os.path.exists('./dataset'):\n",
    "        os.makedirs('./dataset')\n",
    "\n",
    "    if not os.path.exists(f\"./dataset/{dataset.split('/')[-1]}\"):\n",
    "        os.makedirs(f\"./dataset/{dataset.split('/')[-1]}\")\n",
    "\n",
    "    for file in os.listdir(path):\n",
    "        if file.endswith('.csv') or file.endswith('.json'):\n",
    "            src = os.path.join(path, file)\n",
    "            dst = os.path.join(f\"./dataset/{dataset.split('/')[-1]}\", file)\n",
    "            shutil.copy2(src, dst)  # Copies file wich are originally saved in USER/kagglehub\n",
    "            print(f\"Copied {file} to ./dataset\")\n"
   ]
  },
  {
   "cell_type": "markdown",
   "id": "9abda761",
   "metadata": {},
   "source": [
    "### Amazon Fine Food Reviews  \n",
    "Comprises over 560,000 food product reviews from Amazon, labeled with star ratings from 1 to 5. Useful for sentiment analysis, recommendation systems, and opinion mining. Reviews vary in length and detail.\n",
    "\n",
    "### AG News Topic Classification  \n",
    "Contains 120,000 news articles categorized into 4 classes (World, Sports, Business, Sci/Tech). Widely used for topic classification benchmarks. The dataset size is about 150 MB on Kaggle.\n",
    "\n",
    "### IMDb Movie Reviews  \n",
    "Contains 50,000 movie reviews labeled as positive or negative sentiment. Widely used for binary sentiment classification benchmarks in NLP. The dataset size is around 80-100 MB on Kaggle.\n",
    "\n"
   ]
  },
  {
   "cell_type": "code",
   "execution_count": 2,
   "id": "c27c9381",
   "metadata": {},
   "outputs": [
    {
     "name": "stdout",
     "output_type": "stream",
     "text": [
      "Copied Reviews.csv to ./dataset\n",
      "Copied test.csv to ./dataset\n",
      "Copied train.csv to ./dataset\n",
      "Downloading from https://www.kaggle.com/api/v1/datasets/download/lakshmi25npathi/imdb-dataset-of-50k-movie-reviews?dataset_version_number=1...\n"
     ]
    },
    {
     "name": "stderr",
     "output_type": "stream",
     "text": [
      "100%|██████████| 25.7M/25.7M [00:02<00:00, 12.9MB/s]"
     ]
    },
    {
     "name": "stdout",
     "output_type": "stream",
     "text": [
      "Extracting files...\n"
     ]
    },
    {
     "name": "stderr",
     "output_type": "stream",
     "text": [
      "\n"
     ]
    },
    {
     "name": "stdout",
     "output_type": "stream",
     "text": [
      "Copied IMDB Dataset.csv to ./dataset\n"
     ]
    }
   ],
   "source": [
    "download_kaggle_dataset(\"snap/amazon-fine-food-reviews\")\n",
    "download_kaggle_dataset(\"amananandrai/ag-news-classification-dataset\")\n",
    "download_kaggle_dataset(\"lakshmi25npathi/imdb-dataset-of-50k-movie-reviews\")"
   ]
  }
 ],
 "metadata": {
  "kernelspec": {
   "display_name": "env",
   "language": "python",
   "name": "python3"
  },
  "language_info": {
   "codemirror_mode": {
    "name": "ipython",
    "version": 3
   },
   "file_extension": ".py",
   "mimetype": "text/x-python",
   "name": "python",
   "nbconvert_exporter": "python",
   "pygments_lexer": "ipython3",
   "version": "3.10.2"
  }
 },
 "nbformat": 4,
 "nbformat_minor": 5
}
