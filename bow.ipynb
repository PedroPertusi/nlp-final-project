{
 "cells": [
  {
   "cell_type": "code",
   "execution_count": null,
   "id": "9d6487ae",
   "metadata": {},
   "outputs": [],
   "source": [
    "import pandas as pd\n",
    "import numpy as np\n",
    "import matplotlib.pyplot as plt\n",
    "\n",
    "from sklearn.model_selection import train_test_split\n",
    "from sklearn.feature_extraction.text import TfidfVectorizer\n",
    "from sklearn.linear_model import LogisticRegression\n",
    "from sklearn.metrics import accuracy_score\n",
    "from sklearn.utils import resample, shuffle\n",
    "from scipy.sparse import vstack\n",
    "\n",
    "import warnings\n",
    "warnings.filterwarnings('ignore')\n"
   ]
  },
  {
   "cell_type": "code",
   "execution_count": null,
   "id": "8915d349",
   "metadata": {},
   "outputs": [
    {
     "name": "stdout",
     "output_type": "stream",
     "text": [
      "Dataset shape: (568454, 10)\n"
     ]
    },
    {
     "data": {
      "text/html": [
       "<div>\n",
       "<style scoped>\n",
       "    .dataframe tbody tr th:only-of-type {\n",
       "        vertical-align: middle;\n",
       "    }\n",
       "\n",
       "    .dataframe tbody tr th {\n",
       "        vertical-align: top;\n",
       "    }\n",
       "\n",
       "    .dataframe thead th {\n",
       "        text-align: right;\n",
       "    }\n",
       "</style>\n",
       "<table border=\"1\" class=\"dataframe\">\n",
       "  <thead>\n",
       "    <tr style=\"text-align: right;\">\n",
       "      <th></th>\n",
       "      <th>Id</th>\n",
       "      <th>ProductId</th>\n",
       "      <th>UserId</th>\n",
       "      <th>ProfileName</th>\n",
       "      <th>HelpfulnessNumerator</th>\n",
       "      <th>HelpfulnessDenominator</th>\n",
       "      <th>Score</th>\n",
       "      <th>Time</th>\n",
       "      <th>Summary</th>\n",
       "      <th>Text</th>\n",
       "    </tr>\n",
       "  </thead>\n",
       "  <tbody>\n",
       "    <tr>\n",
       "      <th>0</th>\n",
       "      <td>1</td>\n",
       "      <td>B001E4KFG0</td>\n",
       "      <td>A3SGXH7AUHU8GW</td>\n",
       "      <td>delmartian</td>\n",
       "      <td>1</td>\n",
       "      <td>1</td>\n",
       "      <td>5</td>\n",
       "      <td>1303862400</td>\n",
       "      <td>Good Quality Dog Food</td>\n",
       "      <td>I have bought several of the Vitality canned d...</td>\n",
       "    </tr>\n",
       "    <tr>\n",
       "      <th>1</th>\n",
       "      <td>2</td>\n",
       "      <td>B00813GRG4</td>\n",
       "      <td>A1D87F6ZCVE5NK</td>\n",
       "      <td>dll pa</td>\n",
       "      <td>0</td>\n",
       "      <td>0</td>\n",
       "      <td>1</td>\n",
       "      <td>1346976000</td>\n",
       "      <td>Not as Advertised</td>\n",
       "      <td>Product arrived labeled as Jumbo Salted Peanut...</td>\n",
       "    </tr>\n",
       "    <tr>\n",
       "      <th>2</th>\n",
       "      <td>3</td>\n",
       "      <td>B000LQOCH0</td>\n",
       "      <td>ABXLMWJIXXAIN</td>\n",
       "      <td>Natalia Corres \"Natalia Corres\"</td>\n",
       "      <td>1</td>\n",
       "      <td>1</td>\n",
       "      <td>4</td>\n",
       "      <td>1219017600</td>\n",
       "      <td>\"Delight\" says it all</td>\n",
       "      <td>This is a confection that has been around a fe...</td>\n",
       "    </tr>\n",
       "    <tr>\n",
       "      <th>3</th>\n",
       "      <td>4</td>\n",
       "      <td>B000UA0QIQ</td>\n",
       "      <td>A395BORC6FGVXV</td>\n",
       "      <td>Karl</td>\n",
       "      <td>3</td>\n",
       "      <td>3</td>\n",
       "      <td>2</td>\n",
       "      <td>1307923200</td>\n",
       "      <td>Cough Medicine</td>\n",
       "      <td>If you are looking for the secret ingredient i...</td>\n",
       "    </tr>\n",
       "    <tr>\n",
       "      <th>4</th>\n",
       "      <td>5</td>\n",
       "      <td>B006K2ZZ7K</td>\n",
       "      <td>A1UQRSCLF8GW1T</td>\n",
       "      <td>Michael D. Bigham \"M. Wassir\"</td>\n",
       "      <td>0</td>\n",
       "      <td>0</td>\n",
       "      <td>5</td>\n",
       "      <td>1350777600</td>\n",
       "      <td>Great taffy</td>\n",
       "      <td>Great taffy at a great price.  There was a wid...</td>\n",
       "    </tr>\n",
       "  </tbody>\n",
       "</table>\n",
       "</div>"
      ],
      "text/plain": [
       "   Id   ProductId          UserId                      ProfileName  \\\n",
       "0   1  B001E4KFG0  A3SGXH7AUHU8GW                       delmartian   \n",
       "1   2  B00813GRG4  A1D87F6ZCVE5NK                           dll pa   \n",
       "2   3  B000LQOCH0   ABXLMWJIXXAIN  Natalia Corres \"Natalia Corres\"   \n",
       "3   4  B000UA0QIQ  A395BORC6FGVXV                             Karl   \n",
       "4   5  B006K2ZZ7K  A1UQRSCLF8GW1T    Michael D. Bigham \"M. Wassir\"   \n",
       "\n",
       "   HelpfulnessNumerator  HelpfulnessDenominator  Score        Time  \\\n",
       "0                     1                       1      5  1303862400   \n",
       "1                     0                       0      1  1346976000   \n",
       "2                     1                       1      4  1219017600   \n",
       "3                     3                       3      2  1307923200   \n",
       "4                     0                       0      5  1350777600   \n",
       "\n",
       "                 Summary                                               Text  \n",
       "0  Good Quality Dog Food  I have bought several of the Vitality canned d...  \n",
       "1      Not as Advertised  Product arrived labeled as Jumbo Salted Peanut...  \n",
       "2  \"Delight\" says it all  This is a confection that has been around a fe...  \n",
       "3         Cough Medicine  If you are looking for the secret ingredient i...  \n",
       "4            Great taffy  Great taffy at a great price.  There was a wid...  "
      ]
     },
     "execution_count": 9,
     "metadata": {},
     "output_type": "execute_result"
    }
   ],
   "source": [
    "df = pd.read_csv('dataset/amazon-fine-food-reviews/Reviews.csv')\n",
    "print(f\"Dataset shape: {df.shape}\")\n",
    "df.head()\n"
   ]
  },
  {
   "cell_type": "code",
   "execution_count": null,
   "id": "0150a1bf",
   "metadata": {},
   "outputs": [],
   "source": [
    "# Cell 3: Basic preprocessing\n",
    "# For simplicity, we'll focus on the 'Text' column for reviews and 'Score' for sentiment\n",
    "\n",
    "# Drop rows with missing Text or Score\n",
    "df = df.dropna(subset=['Text', 'Score'])\n",
    "\n",
    "# For classification, convert Score into binary sentiment:\n",
    "# Positive (Score >=4) = 1, Negative (Score <=2) = 0, drop neutral (Score=3)\n",
    "\n",
    "# df = df[df['Score'] != 3]\n",
    "# df['Sentiment'] = df['Score'].apply(lambda x: 1 if x >= 4 else 0)\n",
    "\n",
    "# print(f\"After filtering, dataset shape: {df.shape}\")\n",
    "# df[['Text', 'Score', 'Sentiment']].head()\n"
   ]
  },
  {
   "cell_type": "code",
   "execution_count": null,
   "id": "54c71892",
   "metadata": {},
   "outputs": [
    {
     "name": "stdout",
     "output_type": "stream",
     "text": [
      "Feature matrix shape: (568454, 5000)\n"
     ]
    }
   ],
   "source": [
    "vectorizer = TfidfVectorizer(stop_words='english', max_features=5000)\n",
    "\n",
    "X = vectorizer.fit_transform(df['Text'])\n",
    "y = df['Score']\n",
    "\n",
    "print(f\"Feature matrix shape: {X.shape}\")\n"
   ]
  },
  {
   "cell_type": "code",
   "execution_count": null,
   "id": "b3fdf6b1",
   "metadata": {},
   "outputs": [
    {
     "name": "stdout",
     "output_type": "stream",
     "text": [
      "Full train set: (454763, 5000), Test set: (113691, 5000)\n",
      "Train class distribution:\n",
      "Score\n",
      "5    290498\n",
      "4     64524\n",
      "1     41814\n",
      "3     34112\n",
      "2     23815\n",
      "Name: count, dtype: int64\n",
      "Test class distribution:\n",
      "Score\n",
      "5    72624\n",
      "4    16131\n",
      "1    10454\n",
      "3     8528\n",
      "2     5954\n",
      "Name: count, dtype: int64\n"
     ]
    }
   ],
   "source": [
    "# Cell 1: Split the data into fixed train and test sets (80/20) stratified and balanced\n",
    "\n",
    "X_train_full, X_test, y_train_full, y_test = train_test_split(\n",
    "    X, y, test_size=0.2, random_state=42, stratify=y)\n",
    "\n",
    "print(f\"Full train set: {X_train_full.shape}, Test set: {X_test.shape}\")\n",
    "print(f\"Train class distribution:\\n{pd.Series(y_train_full).value_counts()}\")\n",
    "print(f\"Test class distribution:\\n{pd.Series(y_test).value_counts()}\")\n",
    "\n"
   ]
  },
  {
   "cell_type": "code",
   "execution_count": null,
   "id": "707b26e2",
   "metadata": {},
   "outputs": [
    {
     "name": "stdout",
     "output_type": "stream",
     "text": [
      "\n",
      "Training with 10% of the training data\n",
      "Test accuracy: 0.7121\n",
      "\n",
      "Training with 20% of the training data\n",
      "Test accuracy: 0.7193\n",
      "\n",
      "Training with 30% of the training data\n",
      "Test accuracy: 0.7233\n",
      "\n",
      "Training with 40% of the training data\n",
      "Test accuracy: 0.7254\n",
      "\n",
      "Training with 50% of the training data\n",
      "Test accuracy: 0.7270\n",
      "\n",
      "Training with 60% of the training data\n",
      "Test accuracy: 0.7282\n",
      "\n",
      "Training with 70% of the training data\n",
      "Test accuracy: 0.7296\n",
      "\n",
      "Training with 80% of the training data\n",
      "Test accuracy: 0.7306\n",
      "\n",
      "Training with 90% of the training data\n"
     ]
    }
   ],
   "source": [
    "fractions = [0.1, 0.2, 0.3, 0.4, 0.5, 0.6, 0.7, 0.8, 0.9, 1.0]\n",
    "results = []\n",
    "\n",
    "classes = [1, 2, 3, 4, 5]\n",
    "\n",
    "for frac in fractions:\n",
    "    print(f\"\\nTraining with {int(frac*100)}% of the training data\")\n",
    "\n",
    "    X_train_frac_parts = []\n",
    "    y_train_frac_parts = []\n",
    "\n",
    "    for cls in classes:\n",
    "        cls_idx = np.where(y_train_full == cls)[0]\n",
    "        X_train_cls = X_train_full[cls_idx]\n",
    "        y_train_cls = y_train_full.iloc[cls_idx].values\n",
    "\n",
    "        n_cls = int(frac * X_train_cls.shape[0])\n",
    "        # Sample fraction of data for this class without replacement\n",
    "        X_train_cls_frac = resample(X_train_cls, n_samples=n_cls, random_state=42, replace=False)\n",
    "        y_train_cls_frac = y_train_cls[:n_cls]\n",
    "\n",
    "        X_train_frac_parts.append(X_train_cls_frac)\n",
    "        y_train_frac_parts.append(y_train_cls_frac)\n",
    "\n",
    "    # Combine all classes\n",
    "    X_train_frac = vstack(X_train_frac_parts)\n",
    "    y_train_frac = np.concatenate(y_train_frac_parts)\n",
    "\n",
    "    # Shuffle combined training set\n",
    "    X_train_frac, y_train_frac = shuffle(X_train_frac, y_train_frac, random_state=42)\n",
    "\n",
    "    # Train multi-class logistic regression (default is multinomial)\n",
    "    clf = LogisticRegression(max_iter=1000, random_state=42, multi_class='multinomial', solver='lbfgs')\n",
    "    clf.fit(X_train_frac, y_train_frac)\n",
    "\n",
    "    # Evaluate on fixed test set\n",
    "    y_pred = clf.predict(X_test)\n",
    "    acc = accuracy_score(y_test, y_pred)\n",
    "    print(f\"Test accuracy: {acc:.4f}\")\n",
    "\n",
    "    results.append((frac, acc))"
   ]
  },
  {
   "cell_type": "code",
   "execution_count": null,
   "id": "04c06401",
   "metadata": {},
   "outputs": [
    {
     "data": {
      "image/png": "[encoded data removed]",
      "text/plain": [
       "<Figure size 800x500 with 1 Axes>"
      ]
     },
     "metadata": {},
     "output_type": "display_data"
    }
   ],
   "source": [
    "# Cell 3: Plot accuracy vs training data fraction\n",
    "fractions_percent = [int(f*100) for f in fractions]\n",
    "accuracies = [acc for _, acc in results]\n",
    "\n",
    "plt.figure(figsize=(8,5))\n",
    "plt.plot(fractions_percent, accuracies, marker='o')\n",
    "plt.title(\"Test Accuracy vs Training Data Fraction\")\n",
    "plt.xlabel(\"Training Data Fraction (%)\")\n",
    "plt.ylabel(\"Test Accuracy\")\n",
    "plt.xticks(fractions_percent)\n",
    "plt.grid(True)\n",
    "plt.show()\n"
   ]
  }
 ],
 "metadata": {
  "kernelspec": {
   "display_name": "env",
   "language": "python",
   "name": "python3"
  },
  "language_info": {
   "codemirror_mode": {
    "name": "ipython",
    "version": 3
   },
   "file_extension": ".py",
   "mimetype": "text/x-python",
   "name": "python",
   "nbconvert_exporter": "python",
   "pygments_lexer": "ipython3",
   "version": "3.10.12"
  }
 },
 "nbformat": 4,
 "nbformat_minor": 5
}
